{
 "cells": [
  {
   "cell_type": "markdown",
   "metadata": {},
   "source": [
    "# Section 2 - Regression\n",
    "Learning Objective: Linear Regression and Logistic Regression."
   ]
  },
  {
   "cell_type": "markdown",
   "metadata": {},
   "source": [
    "## 2.1 The first example\n",
    "Given the dataset of the price and size of house. Draw the linear regression base on this given data.\n",
    "Finally predict the price of the house with the given size of the house."
   ]
  },
  {
   "cell_type": "code",
   "execution_count": 7,
   "metadata": {
    "collapsed": false
   },
   "outputs": [
    {
     "data": {
      "image/png": "[encoded data removed]",
      "text/plain": [
       "<matplotlib.figure.Figure at 0x98e71d0>"
      ]
     },
     "metadata": {},
     "output_type": "display_data"
    },
    {
     "name": "stdout",
     "output_type": "stream",
     "text": [
      "Prediction the price of the house with size 170 is: 1661.59707047\n"
     ]
    }
   ],
   "source": [
    "from scipy import stats\n",
    "from matplotlib import pyplot as plt\n",
    "import numpy as np\n",
    "\n",
    "# Given training data is x - size of the house, y - price of the house\n",
    "x = np.array([112, 345, 198, 305, 372, 550, 302, 420, 578])\n",
    "y = np.array([1120, 1523, 2102, 2230, 2600, 3200, 3400, 3689, 4460])\n",
    "\n",
    "# Run the linear regression\n",
    "slope, intercept, r_value, p_value, std_err = stats.linregress(x,y)\n",
    "\n",
    "# Plotting the given data in black\n",
    "plt.plot(x, y, 'ro', color='black')\n",
    "\n",
    "# Ploting the linear regression in blue\n",
    "plt.plot(x, x*slope + intercept, 'blue')\n",
    "\n",
    "# Configure the plot\n",
    "plt.xlabel('Size of house')\n",
    "plt.ylabel('Price')\n",
    "plt.axis([0, 600, 0, 5000])\n",
    "\n",
    "plt.plot()\n",
    "plt.show()\n",
    "\n",
    "# Predic the price\n",
    "newX = 170\n",
    "newY = newX*slope + intercept\n",
    "\n",
    "print \"Prediction the price of the house with size\", newX, \"is:\", newY"
   ]
  },
  {
   "cell_type": "markdown",
   "metadata": {},
   "source": [
    "## 2.2 The second example is logistic regression I - sigmoid function\n",
    "* Sigmoid function:\n",
    "### $g(z)=\\frac{1}{1+{e}^{-z}}$\n",
    "* Linear model\n",
    "### $z=\\beta0 + \\beta1*x$\n",
    "* Sigmoid linear function:\n",
    "### $h_{\\beta}(x) = g(z) = \\frac{1}{1+{e}^{-(\\beta0 + \\beta1*x)}}$\n"
   ]
  },
  {
   "cell_type": "code",
   "execution_count": 27,
   "metadata": {
    "collapsed": false
   },
   "outputs": [
    {
     "name": "stdout",
     "output_type": "stream",
     "text": [
      "The intercept value: [-1.70338898]\n",
      "The coef value: [[ 0.4572272]]\n",
      "Predict classifier is [1]\n",
      "Predict probability is [[ 0.12407126  0.87592874]]\n",
      "Predict probability with model is [[ 0.87592874]]\n"
     ]
    },
    {
     "data": {
      "image/png": "[encoded data removed]",
      "text/plain": [
       "<matplotlib.figure.Figure at 0x9e429e8>"
      ]
     },
     "metadata": {},
     "output_type": "display_data"
    }
   ],
   "source": [
    "import numpy as np\n",
    "from matplotlib import pyplot as plt\n",
    "from sklearn.linear_model import LogisticRegression\n",
    "\n",
    "# Define the model which is sigmoid function\n",
    "def model(classifier, x):\n",
    "    return 1/(1 + np.exp(-(classifier.intercept_ + classifier.coef_*x)))\n",
    "\n",
    "# Given training data set (x1, y1) & (x2, y2)\n",
    "x1 = np.array([0,0.6,1.1,1.5,1.8,2.5,3,3.1,3.9,4,4.9,5,5.1])\n",
    "y1 = np.array([0,0,0,0,0,0,0,0,0,0,0,0,0])\n",
    "x2 = np.array([3,3.8,4.4,5.2,5.5,6.5,6,6.1,6.9,7,7.9,8,8.1])\n",
    "y2 = np.array([1,1,1,1,1,1,1,1,1,1,1,1,1])\n",
    "\n",
    "# Merge 2 training data to 1\n",
    "X = np.array([[0],[0.6],[1.1],[1.5],[1.8],[2.5],[3],[3.1],[3.9],[4],[4.9],[5],[5.1],[3],[3.8],[4.4],[5.2],[5.5],[6.5],[6],[6.1],[6.9],[7],[7.9],[8],[8.1]])\n",
    "y = np.array([0,0,0,0,0,0,0,0,0,0,0,0,0,1,1,1,1,1,1,1,1,1,1,1,1,1])\n",
    "\n",
    "# Plot the training data\n",
    "plt.plot(x1, y1, 'ro', color='black')\n",
    "plt.plot(x2, y2, 'ro', color='blue')\n",
    "\n",
    "# Run the logistic regression\n",
    "classifier = LogisticRegression()\n",
    "classifier.fit(X, y)\n",
    "print \"The intercept value:\", classifier.intercept_\n",
    "print \"The coef value:\", classifier.coef_\n",
    "\n",
    "# Predict the data with classifier return\n",
    "pred = classifier.predict(8)\n",
    "print \"Predict classifier is\", pred\n",
    "\n",
    "# Predict the data with probability return\n",
    "pred_prob = classifier.predict_proba(8)\n",
    "print \"Predict probability is\", pred_prob\n",
    "\n",
    "# Predict the data by using model method\n",
    "pred_ = model(classifier, 8)\n",
    "print \"Predict probability with model is\", pred_\n",
    "\n",
    "# Plot the sigmoid function as green\n",
    "for i in range(1, 100, 1):\n",
    "    plt.plot(i/10.0, model(classifier, i/10.), 'r*', color=\"green\")\n",
    "\n",
    "# Range the x, y display\n",
    "plt.axis([-0.5, 10, -0.5, 1.5])\n",
    "# Show the plot\n",
    "plt.show()"
   ]
  },
  {
   "cell_type": "markdown",
   "metadata": {},
   "source": [
    "## 2.3 The third example is logistic regression\n",
    "\n",
    "| Balance  | Income    | Age | Class | Remark |\n",
    "| -------- |:---------:|:---:|:-----:|:-------------------------:|\n",
    "| 10.000   | 80.000    | 35  | 1     | can pay back the debt |\n",
    "| 7.000    | 120.000   | 57  | 1     | can pay back the debt |\n",
    "| 100      | 23.000    | 22  | 0     | can NOT pay back the debt |\n",
    "| 223      | 18.000    | 26  | 0     | can NOT pay back the debt |\n",
    "| 5.500    | 50.000    | 25  | ???   | Predict |"
   ]
  },
  {
   "cell_type": "markdown",
   "metadata": {},
   "source": [
    "## 2.4 The fourth example is logistic regression - credit scoring\n",
    "\n"
   ]
  },
  {
   "cell_type": "code",
   "execution_count": null,
   "metadata": {
    "collapsed": true
   },
   "outputs": [],
   "source": []
  }
 ],
 "metadata": {
  "anaconda-cloud": {},
  "kernelspec": {
   "display_name": "Python [conda root]",
   "language": "python",
   "name": "conda-root-py"
  },
  "language_info": {
   "codemirror_mode": {
    "name": "ipython",
    "version": 2
   },
   "file_extension": ".py",
   "mimetype": "text/x-python",
   "name": "python",
   "nbconvert_exporter": "python",
   "pygments_lexer": "ipython2",
   "version": "2.7.12"
  }
 },
 "nbformat": 4,
 "nbformat_minor": 1
}
