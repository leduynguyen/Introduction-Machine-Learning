{
 "cells": [
  {
   "cell_type": "markdown",
   "metadata": {},
   "source": [
    "# Section 2 B - Logistic Regression\n",
    "Learning Objective: Logistic Regression and Cross Validation.\n",
    "* Logistic Regression\n",
    "* Cross Validation\n",
    "    * Exhaustive cross validation\n",
    "    * Non-exhaustive cross validation: k-fold cross validation\n",
    "    \n",
    "## Logistic Regression Example - Sigmoid function\n",
    "* Sigmoid function:\n",
    "    $g(z)=\\frac{1}{1+{e}^{-z}}$\n",
    "* Linear model\n",
    "    $z=\\beta0 + \\beta1*x$\n",
    "* Sigmoid linear function:\n",
    "    $h_{\\beta}(x) = g(z) = \\frac{1}{1+{e}^{-(\\beta0 + \\beta1*x)}}$\n"
   ]
  },
  {
   "cell_type": "code",
   "execution_count": 27,
   "metadata": {
    "collapsed": false
   },
   "outputs": [
    {
     "name": "stdout",
     "output_type": "stream",
     "text": [
      "The intercept value: [-1.70338898]\n",
      "The coef value: [[ 0.4572272]]\n",
      "Predict classifier is [1]\n",
      "Predict probability is [[ 0.12407126  0.87592874]]\n",
      "Predict probability with model is [[ 0.87592874]]\n"
     ]
    },
    {
     "data": {
      "image/png": "[encoded data removed]",
      "text/plain": [
       "<matplotlib.figure.Figure at 0x9e429e8>"
      ]
     },
     "metadata": {},
     "output_type": "display_data"
    }
   ],
   "source": [
    "import numpy as np\n",
    "from matplotlib import pyplot as plt\n",
    "from sklearn.linear_model import LogisticRegression\n",
    "\n",
    "# Define the model which is sigmoid function\n",
    "def model(classifier, x):\n",
    "    return 1/(1 + np.exp(-(classifier.intercept_ + classifier.coef_*x)))\n",
    "\n",
    "# Given training data set (x1, y1) & (x2, y2)\n",
    "x1 = np.array([0,0.6,1.1,1.5,1.8,2.5,3,3.1,3.9,4,4.9,5,5.1])\n",
    "y1 = np.array([0,0,0,0,0,0,0,0,0,0,0,0,0])\n",
    "x2 = np.array([3,3.8,4.4,5.2,5.5,6.5,6,6.1,6.9,7,7.9,8,8.1])\n",
    "y2 = np.array([1,1,1,1,1,1,1,1,1,1,1,1,1])\n",
    "\n",
    "# Merge 2 training data to 1\n",
    "X = np.array([[0],[0.6],[1.1],[1.5],[1.8],[2.5],[3],[3.1],[3.9],[4],[4.9],[5],[5.1],[3],[3.8],[4.4],[5.2],[5.5],[6.5],[6],[6.1],[6.9],[7],[7.9],[8],[8.1]])\n",
    "y = np.array([0,0,0,0,0,0,0,0,0,0,0,0,0,1,1,1,1,1,1,1,1,1,1,1,1,1])\n",
    "\n",
    "# Plot the training data\n",
    "plt.plot(x1, y1, 'ro', color='black')\n",
    "plt.plot(x2, y2, 'ro', color='blue')\n",
    "\n",
    "# Run the logistic regression\n",
    "classifier = LogisticRegression()\n",
    "classifier.fit(X, y)\n",
    "print \"The intercept value:\", classifier.intercept_\n",
    "print \"The coef value:\", classifier.coef_\n",
    "\n",
    "# Predict the data with classifier return\n",
    "pred = classifier.predict(8)\n",
    "print \"Predict classifier is\", pred\n",
    "\n",
    "# Predict the data with probability return\n",
    "pred_prob = classifier.predict_proba(8)\n",
    "print \"Predict probability is\", pred_prob\n",
    "\n",
    "# Predict the data by using model method\n",
    "pred_ = model(classifier, 8)\n",
    "print \"Predict probability with model is\", pred_\n",
    "\n",
    "# Plot the sigmoid function as green\n",
    "for i in range(1, 100, 1):\n",
    "    plt.plot(i/10.0, model(classifier, i/10.), 'r*', color=\"green\")\n",
    "\n",
    "# Range the x, y display\n",
    "plt.axis([-0.5, 10, -0.5, 1.5])\n",
    "# Show the plot\n",
    "plt.show()"
   ]
  },
  {
   "cell_type": "markdown",
   "metadata": {},
   "source": [
    "## Example about logistic regression\n",
    "Given the training data. Write the program with logistic regression to predict a client can or can't pay back the debt.\n",
    "Given a person with balance in bank is 5.500 usd, his income 50.000 usd and his age is 25.\n",
    "\n",
    "| Balance  | Income    | Age | Class | Remark |\n",
    "| -------- |:---------:|:---:|:-----:|:-------------------------:|\n",
    "| 10.000   | 80.000    | 35  | 1     | can pay back the debt |\n",
    "| 7.000    | 120.000   | 57  | 1     | can pay back the debt |\n",
    "| 100      | 23.000    | 22  | 0     | can NOT pay back the debt |\n",
    "| 223      | 18.000    | 26  | 0     | can NOT pay back the debt |\n",
    "| 5.500    | 50.000    | 25  | ???   | Predict |"
   ]
  },
  {
   "cell_type": "code",
   "execution_count": 13,
   "metadata": {
    "collapsed": false
   },
   "outputs": [
    {
     "name": "stdout",
     "output_type": "stream",
     "text": [
      "The prediction is [1]\n"
     ]
    }
   ],
   "source": [
    "import numpy as np\n",
    "from matplotlib import pyplot as plt\n",
    "from sklearn.linear_model import LogisticRegression\n",
    "\n",
    "X = np.array([[10000,80000,35],[7000,120000,57],[100,23000,22],[223,18000,26]])\n",
    "y = np.array([1,1,0,0])\n",
    "\n",
    "classifier = LogisticRegression()\n",
    "classifier.fit(X, y)\n",
    "\n",
    "# The predict value is 1 D array\n",
    "sample = np.array([5500, 50000, 25])\n",
    "# Have to reshapae allow to understand 1 sample with many features\n",
    "sample_predict = sample.reshape(1, -1)\n",
    "\n",
    "print \"The prediction is\", classifier.predict(sample_predict)"
   ]
  },
  {
   "cell_type": "markdown",
   "metadata": {},
   "source": [
    "## Logistic Regression Example - Credit Scoring\n",
    "Read user information about the credit scoring in csv file. Then we extract the needed features to our dataset for classification.\n",
    "\n",
    "Spit the dataset from the previous step to training dataset and testing dataset. Build model for classification base on logistic regression.\n",
    "\n",
    "Predict the testing dataset then evaluate them by confusion matrix and accuracy score."
   ]
  },
  {
   "cell_type": "code",
   "execution_count": 15,
   "metadata": {
    "collapsed": false
   },
   "outputs": [
    {
     "name": "stdout",
     "output_type": "stream",
     "text": [
      "Information of the head dataset\n",
      "   clientid        income        age         loan       LTI  default\n",
      "0         1  66155.925095  59.017015  8106.532131  0.122537        0\n",
      "1         2  34415.153966  48.117153  6564.745018  0.190752        0\n",
      "2         3  57317.170063  63.108049  8020.953296  0.139940        0\n",
      "3         4  42709.534201  45.751972  6103.642260  0.142911        0\n",
      "4         5  66952.688845  18.584336  8770.099235  0.130989        1\n",
      "********************************************************************************\n",
      "\n",
      "Describe the data\n",
      "          clientid        income          age          loan          LTI  \\\n",
      "count  2000.000000   2000.000000  2000.000000   2000.000000  2000.000000   \n",
      "mean   1000.500000  45331.600018    40.927143   4444.369695     0.098403   \n",
      "std     577.494589  14326.327119    13.262450   3045.410024     0.057620   \n",
      "min       1.000000  20014.489470    18.055189      1.377630     0.000049   \n",
      "25%     500.750000  32796.459717    29.062492   1939.708847     0.047903   \n",
      "50%    1000.500000  45789.117313    41.382673   3974.719419     0.099437   \n",
      "75%    1500.250000  57791.281668    52.596993   6432.410625     0.147585   \n",
      "max    2000.000000  69995.685578    63.971796  13766.051239     0.199938   \n",
      "\n",
      "           default  \n",
      "count  2000.000000  \n",
      "mean      0.141500  \n",
      "std       0.348624  \n",
      "min       0.000000  \n",
      "25%       0.000000  \n",
      "50%       0.000000  \n",
      "75%       0.000000  \n",
      "max       1.000000  \n",
      "********************************************************************************\n",
      "\n",
      "Correlation of the data\n",
      "          clientid    income       age      loan       LTI   default\n",
      "clientid  1.000000  0.039280 -0.030341  0.018931  0.002538 -0.020145\n",
      "income    0.039280  1.000000 -0.034984  0.441117 -0.019862  0.002284\n",
      "age      -0.030341 -0.034984  1.000000  0.006561  0.021588 -0.444765\n",
      "loan      0.018931  0.441117  0.006561  1.000000  0.847495  0.377160\n",
      "LTI       0.002538 -0.019862  0.021588  0.847495  1.000000  0.433261\n",
      "default  -0.020145  0.002284 -0.444765  0.377160  0.433261  1.000000\n",
      "********************************************************************************\n",
      "\n",
      "Confusion matrix\n",
      "[[328   7]\n",
      " [ 33  32]]\n",
      "********************************************************************************\n",
      "\n",
      "The accuracy of the model: 0.9\n"
     ]
    }
   ],
   "source": [
    "import numpy as np\n",
    "import pandas as pd\n",
    "from matplotlib import pyplot as plt\n",
    "from sklearn.linear_model import LogisticRegression\n",
    "from sklearn.cross_validation import train_test_split\n",
    "from sklearn.metrics import confusion_matrix\n",
    "from sklearn.metrics import accuracy_score\n",
    "\n",
    "# Read the dataset from csv file\n",
    "creditData = pd.read_csv(\"./credit_data.csv\")\n",
    "\n",
    "# Print the dataset information\n",
    "print \"Information of the head dataset\"\n",
    "print creditData.head()\n",
    "print \"********************************************************************************\"\n",
    "print\n",
    "print \"Describe the data\"\n",
    "print creditData.describe()\n",
    "print \"********************************************************************************\"\n",
    "print\n",
    "print \"Correlation of the data\"\n",
    "print creditData.corr()\n",
    "\n",
    "# Extract the features from dataset\n",
    "features = creditData[[\"income\", \"age\", \"loan\"]]\n",
    "targetVariable =creditData.default\n",
    "\n",
    "# Split dataset to training set and testing set\n",
    "features_train, features_test, target_train, target_test = train_test_split(features, targetVariable, test_size=0.2)\n",
    "\n",
    "# Build model base on LogisticRegression\n",
    "model = LogisticRegression()\n",
    "model.fit(features_train, target_train)\n",
    "\n",
    "# Prediction the testing dataset\n",
    "predictions = model.predict(features_test)\n",
    "print \"********************************************************************************\"\n",
    "print\n",
    "print \"Confusion matrix\"\n",
    "print confusion_matrix(target_test, predictions)\n",
    "print \"********************************************************************************\"\n",
    "print\n",
    "print \"The accuracy of the model:\", accuracy_score(predictions, target_test)"
   ]
  }
 ],
 "metadata": {
  "anaconda-cloud": {},
  "kernelspec": {
   "display_name": "Python [conda root]",
   "language": "python",
   "name": "conda-root-py"
  },
  "language_info": {
   "codemirror_mode": {
    "name": "ipython",
    "version": 2
   },
   "file_extension": ".py",
   "mimetype": "text/x-python",
   "name": "python",
   "nbconvert_exporter": "python",
   "pygments_lexer": "ipython2",
   "version": "2.7.12"
  }
 },
 "nbformat": 4,
 "nbformat_minor": 1
}
