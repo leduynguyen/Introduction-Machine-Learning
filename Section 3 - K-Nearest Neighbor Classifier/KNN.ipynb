{
 "cells": [
  {
   "cell_type": "markdown",
   "metadata": {},
   "source": [
    "# K-Nearest Neighbour Classifier\n",
    "To classify the unlabeled examples by assign to the class which they most similar by applying the Euclidean distance as the distance function.\n",
    "\n",
    "kNN will identifie **_k_** elements in training dataset that they are the nearset in similar.\n",
    "\n",
    "$dist(x,y) = \\sqrt{(x_1-y_1)^2 + (x_2-y_2)^2 + ... + (x_n-y_n)^2}$\n",
    "\n",
    "* k is small $\\to$ underfitting\n",
    "* k is large $\\to$ be overfitting\n",
    "\n",
    "# Normalization\n",
    "Rescale the various features such that each one contributes relative equally to the distance formula.\n",
    "* Min-Max normalization: let the feature fall in range [0,1]\n",
    "\n",
    "    $x_{new} =\\frac{x - Min(X)}{Max(X) - Min(X)}$\n",
    "\n",
    "* Z transformation\n",
    "\n",
    "    $x_{new} =\\frac{x - Mean(X)}{StandardDeviation(X)}$"
   ]
  },
  {
   "cell_type": "markdown",
   "metadata": {},
   "source": [
    "## 1. Example 1\n",
    "Given 2 datasets, one belongs to blue class, other belongs to red class.\n",
    "\n",
    "Do classifier the sample data. This one will to belong which class are given"
   ]
  },
  {
   "cell_type": "code",
   "execution_count": 18,
   "metadata": {
    "collapsed": false
   },
   "outputs": [
    {
     "name": "stdout",
     "output_type": "stream",
     "text": [
      "It belongs to red class\n"
     ]
    },
    {
     "data": {
      "image/png": "[encoded data removed]",
      "text/plain": [
       "<matplotlib.figure.Figure at 0xaebecf8>"
      ]
     },
     "metadata": {},
     "output_type": "display_data"
    }
   ],
   "source": [
    "import numpy as np\n",
    "from matplotlib import pyplot as plt\n",
    "from sklearn.neighbors import KNeighborsClassifier\n",
    "\n",
    "# Given data with blue color\n",
    "xBlue = np.array([0.3, 0.5, 1, 1.4, 1.7, 2])\n",
    "yBlue = np.array([1, 4.5, 2.3, 1.9, 8.9, 4.1])\n",
    "\n",
    "# Given data with red color\n",
    "xRed = np.array([3.3, 3.5, 4, 4.4, 5.7, 6])\n",
    "yRed = np.array([7, 1.5, 6.3, 1.9, 2.9, 7.1])\n",
    "\n",
    "# Consolidate the given data with label\n",
    "X = np.array([[0.3,1],[0.5,4.5],[1,2.3],[1.4,1.9],[1.7,8.9],[2,4.1],[3.3,7],[3.5,1.5],[4,6.3],[4.4,1.9],[5.7,2.9],[6,7.1]])\n",
    "y = np.array([0,0,0,0,0,0,1,1,1,1,1,1]) # 0: blue class, 1: red class\n",
    "\n",
    "# Plot the given data\n",
    "plt.plot(xBlue, yBlue, 'ro', color=\"blue\")\n",
    "plt.plot(xRed, yRed, 'ro', color='red')\n",
    "\n",
    "# Plot the predict data with green\n",
    "xPredict = 3\n",
    "yPredict = 5\n",
    "plt.plot(xPredict, yPredict, 'ro', color='green', markersize=12)\n",
    "\n",
    "# Define number of neighbor\n",
    "nNeighbor = 3\n",
    "# Classifier\n",
    "classifier = KNeighborsClassifier(nNeighbor)\n",
    "classifier.fit(X, y)\n",
    "\n",
    "# Classifier the sample data\n",
    "valPredict = classifier.predict(np.array([xPredict, yPredict]).reshape(1,-1))\n",
    "\n",
    "if valPredict == 0:\n",
    "    print \"It belongs to blue class\"\n",
    "elif valPredict == 1:\n",
    "    print \"It belongs to red class\"\n",
    "else:\n",
    "    print \"Invalid\"\n",
    "\n",
    "plt.axis([0, 6.5 ,0, 10])\n",
    "plt.show()"
   ]
  },
  {
   "cell_type": "markdown",
   "metadata": {},
   "source": [
    "## 2. Example 2\n",
    "Given dataset about the fruit, protein and vegetable type of dataset. You have to classifier a sample and print what it is belonged."
   ]
  },
  {
   "cell_type": "code",
   "execution_count": 43,
   "metadata": {
    "collapsed": false
   },
   "outputs": [
    {
     "name": "stdout",
     "output_type": "stream",
     "text": [
      "This Protein type [1]\n"
     ]
    },
    {
     "data": {
      "image/png": "[encoded data removed]",
      "text/plain": [
       "<matplotlib.figure.Figure at 0xb16b908>"
      ]
     },
     "metadata": {},
     "output_type": "display_data"
    }
   ],
   "source": [
    "import numpy as np\n",
    "from matplotlib import pyplot as plt\n",
    "from sklearn.neighbors import KNeighborsClassifier\n",
    "\n",
    "# x:sweetness, y:crunchiness\n",
    "\n",
    "# Given Fruit data\n",
    "xFruit = np.array([10, 10])\n",
    "yFruit = np.array([9, 1])\n",
    "\n",
    "# Given Protein data\n",
    "xProtein = np.array([1, 1])\n",
    "yProtein = np.array([4, 1])\n",
    "\n",
    "# Given Vegetable data\n",
    "xVegetable = np.array([7])\n",
    "yVegetable = np.array([10])\n",
    "\n",
    "# Consolidate all data (0:fruit, 1:Protein, 2: Vegetable)\n",
    "x = np.array([[10,9], [10,1], [1,4], [1,1], [7,10]])\n",
    "Y = np.array([0,0,1,1,2])\n",
    "\n",
    "# Plot given data\n",
    "plt.plot(xFruit, yFruit, 'ro', color=\"blue\")\n",
    "plt.plot(xProtein, yProtein, 'ro', color='yellow')\n",
    "plt.plot(xVegetable, yVegetable, 'ro', color='red')\n",
    "\n",
    "# Classifier model with number of neighbor = 2\n",
    "classifier = KNeighborsClassifier(2)\n",
    "classifier.fit(x, Y)\n",
    "\n",
    "# Sample to classifire\n",
    "xSample = 6\n",
    "ySample = 4\n",
    "sample = np.array([xSample, ySample]).reshape(1, -1)\n",
    "result = classifier.predict(sample)\n",
    "\n",
    "if result == 0:\n",
    "    print \"This is Fruit type\", result\n",
    "elif result == 1:\n",
    "    print \"This Protein type\", result\n",
    "elif result == 2:\n",
    "    print \"This Vegetable type\", result\n",
    "else:\n",
    "    print \"Invalid\"\n",
    "\n",
    "# Plot the sample data\n",
    "plt.plot(xSample, ySample, 'ro', color='green', markersize = 15)\n",
    "plt.axis([0, 11, 0, 11])\n",
    "plt.show()\n"
   ]
  }
 ],
 "metadata": {
  "anaconda-cloud": {},
  "kernelspec": {
   "display_name": "Python [conda root]",
   "language": "python",
   "name": "conda-root-py"
  },
  "language_info": {
   "codemirror_mode": {
    "name": "ipython",
    "version": 2
   },
   "file_extension": ".py",
   "mimetype": "text/x-python",
   "name": "python",
   "nbconvert_exporter": "python",
   "pygments_lexer": "ipython2",
   "version": "2.7.12"
  }
 },
 "nbformat": 4,
 "nbformat_minor": 1
}
