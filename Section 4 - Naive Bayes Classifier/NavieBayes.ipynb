{
 "cells": [
  {
   "cell_type": "markdown",
   "metadata": {},
   "source": [
    "# Naive Bayes Classifier\n",
    "\n",
    "For understanding the mathematic background of Navie Bayes Classifier, we can find the detail in [Wikipedia](https://en.wikipedia.org/wiki/Naive_Bayes_classifier)\n",
    "\n",
    "This classifier mechanism is similar with K-Nearest Neighbor classifier. The different is the classifier bases on the bayes probability not on the distance function in K-NN.\n",
    "\n",
    "The advantage of this method is can classifier with the data have many features.\n",
    "\n",
    "## 1. Example 1\n",
    "Given 2 classified data, one belongs to the blue class as 0, other belongs to red class as 1. Using Gaussian Naive Bayes Classifier to classifier the sample data that help to know this sample is belong to what class."
   ]
  },
  {
   "cell_type": "code",
   "execution_count": 4,
   "metadata": {
    "collapsed": false
   },
   "outputs": [
    {
     "name": "stdout",
     "output_type": "stream",
     "text": [
      "Prediction the sample data belongs to class [1]\n"
     ]
    },
    {
     "data": {
      "image/png": "[encoded data removed]",
      "text/plain": [
       "<matplotlib.figure.Figure at 0x94a2198>"
      ]
     },
     "metadata": {},
     "output_type": "display_data"
    }
   ],
   "source": [
    "import numpy as np\n",
    "from matplotlib import pyplot as plt\n",
    "from sklearn.naive_bayes import GaussianNB\n",
    "\n",
    "# Blue class is classified as class 0\n",
    "xBlue = np.array([0.3,0.5,1,1.4,1.7,2])\n",
    "yBlue = np.array([1,4.5,2.3,1.9,8.9,4.1])\n",
    "\n",
    "# Red class is classified as class 1\n",
    "xRed = np.array([3.3,3.5,4,4.4,5.7,6])\n",
    "yRed = np.array([7,1.5,6.3,1.9,2.9,7.1])\n",
    "\n",
    "# Consolidate all above given data\n",
    "X = np.array([[0.3,1],[0.5,4.5],[1,2.3],[1.4,1.9],[1.7,8.9],[2,4.1],[3.3,7],[3.5,1.5],[4,6.3],[4.4,1.9],[5.7,2.9],[6,7.1]])\n",
    "y = np.array([0,0,0,0,0,0,1,1,1,1,1,1])\n",
    "\n",
    "# Training data\n",
    "classifier = GaussianNB()\n",
    "classifier.fit(X, y)\n",
    "\n",
    "# Sample testing data\n",
    "xSample = 3\n",
    "ySample = 6\n",
    "sample = np.array([xSample, ySample]).reshape(1,-1)\n",
    "\n",
    "# Classifier the sample testing data\n",
    "print \"Prediction the sample data belongs to class\", classifier.predict(sample)\n",
    "\n",
    "# Visuliaze all data\n",
    "plt.plot(xBlue, yBlue, 'ro', color='blue')\n",
    "plt.plot(xRed, yRed, 'ro', color='red')\n",
    "plt.plot(xSample, ySample, 'ro', color='green', markersize=15)\n",
    "\n",
    "plt.axis([0, 6.5, 0, 9.5])\n",
    "plt.show()"
   ]
  },
  {
   "cell_type": "markdown",
   "metadata": {
    "collapsed": true
   },
   "source": [
    "## 2. Example 2\n",
    "\n",
    "Working with big data. (be updated soon)"
   ]
  },
  {
   "cell_type": "code",
   "execution_count": null,
   "metadata": {
    "collapsed": true
   },
   "outputs": [],
   "source": []
  }
 ],
 "metadata": {
  "anaconda-cloud": {},
  "kernelspec": {
   "display_name": "Python [conda root]",
   "language": "python",
   "name": "conda-root-py"
  },
  "language_info": {
   "codemirror_mode": {
    "name": "ipython",
    "version": 2
   },
   "file_extension": ".py",
   "mimetype": "text/x-python",
   "name": "python",
   "nbconvert_exporter": "python",
   "pygments_lexer": "ipython2",
   "version": "2.7.12"
  }
 },
 "nbformat": 4,
 "nbformat_minor": 1
}
