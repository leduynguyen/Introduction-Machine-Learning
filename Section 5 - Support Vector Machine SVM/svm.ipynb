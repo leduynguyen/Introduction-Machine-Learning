{
 "cells": [
  {
   "cell_type": "markdown",
   "metadata": {},
   "source": [
    "# Support Vector Machine - SVM\n",
    "\n",
    "[**SVM**](https://en.wikipedia.org/wiki/Support_vector_machine) is popular and widely use for superviser learning to classification algorithm (pattern recognization)\n",
    "\n",
    "A good seperation by using [**hyperplane**](https://en.wikipedia.org/wiki/Hyperplane)\n",
    "\n",
    "* Advantages:\n",
    "    * Can use for regression or classification\n",
    "    * Easier than neural network\n",
    "    * Not influence by noisy data\n",
    "* Disadvantages:\n",
    "    * Combination of kernel and model parameters\n",
    "    * Slow when input data has large number of features\n",
    "    * Blackbox model therefore it is to hard to undestand the beyond\n",
    "    \n",
    "We are using the library for SVM from [scikit learn](http://scikit-learn.org/stable/modules/svm.html)\n",
    "\n",
    "## Example 1"
   ]
  },
  {
   "cell_type": "code",
   "execution_count": 2,
   "metadata": {
    "collapsed": false
   },
   "outputs": [
    {
     "name": "stdout",
     "output_type": "stream",
     "text": [
      "SVM predict the sample data belongs to class [0]\n"
     ]
    },
    {
     "data": {
      "image/png": "[encoded data removed]",
      "text/plain": [
       "<matplotlib.figure.Figure at 0x3c7ad30>"
      ]
     },
     "metadata": {},
     "output_type": "display_data"
    }
   ],
   "source": [
    "import numpy as np\n",
    "from matplotlib import pyplot as plt\n",
    "from sklearn import svm\n",
    "\n",
    "# Blue class as 0\n",
    "xBlue = np.array([0.3,0.5,1,1.4,1.7,2])\n",
    "yBlue = np.array([1,4.5,2.3,1.9,8.9,4.1])\n",
    "\n",
    "# Red class as 1\n",
    "xRed = np.array([3.3,3.5,4,4.4,5.7,6])\n",
    "yRed = np.array([7,1.5,6.3,1.9,2.9,7.1])\n",
    "\n",
    "# Consolidate data\n",
    "X = np.array([[0.3,1],[0.5,4.5],[1,2.3],[1.4,1.9],[1.7,8.9],[2,4.1],[3.3,7],[3.5,1.5],[4,6.3],[4.4,1.9],[5.7,2.9],[6,7.1]])\n",
    "y = np.array([0,0,0,0,0,0,1,1,1,1,1,1])\n",
    "\n",
    "# Sample testing dat\n",
    "xSample = 3\n",
    "ySample = 4\n",
    "\n",
    "# Using SVM to training data\n",
    "classifier = svm.SVC()\n",
    "classifier.fit(X, y)\n",
    "\n",
    "# Classifier the sample data\n",
    "print \"SVM predict the sample data belongs to class\", classifier.predict([[xSample, ySample]])\n",
    "\n",
    "# Ploting data\n",
    "plt.plot(xBlue, yBlue, 'ro', color='blue')\n",
    "plt.plot(xRed, yRed, 'ro', color='red')\n",
    "plt.plot(xSample, ySample, 'ro', color='green', markersize=14)\n",
    "\n",
    "plt.axis([0, 7, 0, 9.5])\n",
    "plt.show()"
   ]
  }
 ],
 "metadata": {
  "anaconda-cloud": {},
  "kernelspec": {
   "display_name": "Python [conda root]",
   "language": "python",
   "name": "conda-root-py"
  },
  "language_info": {
   "codemirror_mode": {
    "name": "ipython",
    "version": 2
   },
   "file_extension": ".py",
   "mimetype": "text/x-python",
   "name": "python",
   "nbconvert_exporter": "python",
   "pygments_lexer": "ipython2",
   "version": "2.7.12"
  }
 },
 "nbformat": 4,
 "nbformat_minor": 1
}
