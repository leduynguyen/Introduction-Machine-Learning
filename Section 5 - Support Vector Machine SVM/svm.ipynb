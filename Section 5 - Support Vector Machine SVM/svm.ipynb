{
 "cells": [
  {
   "cell_type": "markdown",
   "metadata": {},
   "source": [
    "# Support Vector Machine - SVM\n",
    "\n",
    "[**SVM**](https://en.wikipedia.org/wiki/Support_vector_machine) is popular and widely use for superviser learning to classification algorithm (pattern recognization)\n",
    "\n",
    "A good seperation by using [**hyperplane**](https://en.wikipedia.org/wiki/Hyperplane)\n",
    "\n",
    "* Advantages:\n",
    "    * Can use for regression or classification\n",
    "    * Easier than neural network\n",
    "    * Not influence by noisy data\n",
    "* Disadvantages:\n",
    "    * Combination of kernel and model parameters\n",
    "    * Slow when input data has large number of features\n",
    "    * Blackbox model therefore it is to hard to undestand the beyond\n",
    "    \n",
    "> For SVM library and dataset, we are using from [*scikit learn*](http://scikit-learn.org/stable/modules/svm.html)\n",
    "\n",
    "## Example 1: Classifier the sample data\n",
    "Given the dataset with <span style=\"color:blue\">**blue class**</span> as **0**, <span style=\"color:red\">**red class**</span> as **1**. Using SVM to train the training dataset then predict the testing sample data."
   ]
  },
  {
   "cell_type": "code",
   "execution_count": 2,
   "metadata": {
    "collapsed": false
   },
   "outputs": [
    {
     "name": "stdout",
     "output_type": "stream",
     "text": [
      "SVM predict the sample data belongs to class [0]\n"
     ]
    },
    {
     "data": {
      "image/png": "[encoded data removed]",
      "text/plain": [
       "<matplotlib.figure.Figure at 0x3c7ad30>"
      ]
     },
     "metadata": {},
     "output_type": "display_data"
    }
   ],
   "source": [
    "import numpy as np\n",
    "from matplotlib import pyplot as plt\n",
    "from sklearn import svm\n",
    "\n",
    "# Blue class as 0\n",
    "xBlue = np.array([0.3,0.5,1,1.4,1.7,2])\n",
    "yBlue = np.array([1,4.5,2.3,1.9,8.9,4.1])\n",
    "\n",
    "# Red class as 1\n",
    "xRed = np.array([3.3,3.5,4,4.4,5.7,6])\n",
    "yRed = np.array([7,1.5,6.3,1.9,2.9,7.1])\n",
    "\n",
    "# Consolidate data\n",
    "X = np.array([[0.3,1],[0.5,4.5],[1,2.3],[1.4,1.9],[1.7,8.9],[2,4.1],[3.3,7],[3.5,1.5],[4,6.3],[4.4,1.9],[5.7,2.9],[6,7.1]])\n",
    "y = np.array([0,0,0,0,0,0,1,1,1,1,1,1])\n",
    "\n",
    "# Sample testing dat\n",
    "xSample = 3\n",
    "ySample = 4\n",
    "\n",
    "# Using SVM to training data\n",
    "classifier = svm.SVC()\n",
    "classifier.fit(X, y)\n",
    "\n",
    "# Classifier the sample data\n",
    "print \"SVM predict the sample data belongs to class\", classifier.predict([[xSample, ySample]])\n",
    "\n",
    "# Ploting data\n",
    "plt.plot(xBlue, yBlue, 'ro', color='blue')\n",
    "plt.plot(xRed, yRed, 'ro', color='red')\n",
    "plt.plot(xSample, ySample, 'ro', color='green', markersize=14)\n",
    "\n",
    "plt.axis([0, 7, 0, 9.5])\n",
    "plt.show()"
   ]
  },
  {
   "cell_type": "markdown",
   "metadata": {},
   "source": [
    "## Example 2: Character Recognition\n",
    "\n",
    "Using SVM to recognize the digit. The dataset of digit is used in this example available at [scikit load digit](http://scikit-learn.org/stable/modules/generated/sklearn.datasets.load_digits.html)\n",
    "> We are going to use the svm.SVC, for more information about argurment of [**svm.SVC**](http://scikit-learn.org/stable/modules/generated/sklearn.svm.SVC.html#sklearn.svm.SVC)"
   ]
  },
  {
   "cell_type": "code",
   "execution_count": 7,
   "metadata": {
    "collapsed": false
   },
   "outputs": [
    {
     "name": "stdout",
     "output_type": "stream",
     "text": [
      "Dataset information (1797L, 64L)\n",
      "Visualize the first image in dataset\n"
     ]
    },
    {
     "data": {
      "image/png": "[encoded data removed]",
      "text/plain": [
       "<matplotlib.figure.Figure at 0xc2aaa20>"
      ]
     },
     "metadata": {},
     "output_type": "display_data"
    },
    {
     "name": "stdout",
     "output_type": "stream",
     "text": [
      "Visualize the testing image\n"
     ]
    },
    {
     "data": {
      "image/png": "[encoded data removed]",
      "text/plain": [
       "<matplotlib.figure.Figure at 0xb0a3da0>"
      ]
     },
     "metadata": {},
     "output_type": "display_data"
    },
    {
     "name": "stdout",
     "output_type": "stream",
     "text": [
      "The testing image is [9]\n"
     ]
    }
   ],
   "source": [
    "import numpy as np\n",
    "from matplotlib import pyplot as plt\n",
    "import matplotlib.cm as cm\n",
    "from sklearn import datasets\n",
    "from sklearn import svm\n",
    "\n",
    "# Load image dataset\n",
    "numberImages = datasets.load_digits()\n",
    "print \"Dataset information\", numberImages.data.shape\n",
    "\n",
    "# Show first image in dataset\n",
    "print \"Visualize the first image in dataset\"\n",
    "plt.matshow(numberImages.images[0], cmap=cm.Greys_r)\n",
    "plt.show()\n",
    "\n",
    "# C: Penalty parameter the error term.\n",
    "# gamma: Kernel coefficient \n",
    "model = svm.SVC(gamma=0.0001, C=100, kernel='rbf')\n",
    "\n",
    "# Create the training dataset (expect the last 5 item use for testing set)\n",
    "# Training dataset -> *.data \n",
    "# Training label -> *.target\n",
    "X_train, y_train = numberImages.data[:-5], numberImages.target[:-5]\n",
    "\n",
    "# Using SVM to train the dataset\n",
    "model.fit(X_train, y_train)\n",
    "\n",
    "# The testing image\n",
    "predict_Image = numberImages.data[-2]\n",
    "# Visualize the testing image\n",
    "print \"Visualize the testing image\"\n",
    "plt.matshow(numberImages.images[-2], cmap=cm.Greys_r)\n",
    "plt.show()\n",
    "\n",
    "# Predict the testing image\n",
    "print \"The testing image is\", model.predict([predict_Image])"
   ]
  }
 ],
 "metadata": {
  "anaconda-cloud": {},
  "kernelspec": {
   "display_name": "Python [conda root]",
   "language": "python",
   "name": "conda-root-py"
  },
  "language_info": {
   "codemirror_mode": {
    "name": "ipython",
    "version": 2
   },
   "file_extension": ".py",
   "mimetype": "text/x-python",
   "name": "python",
   "nbconvert_exporter": "python",
   "pygments_lexer": "ipython2",
   "version": "2.7.12"
  }
 },
 "nbformat": 4,
 "nbformat_minor": 1
}
