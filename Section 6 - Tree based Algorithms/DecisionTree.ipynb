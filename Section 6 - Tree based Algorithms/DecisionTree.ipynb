{
 "cells": [
  {
   "cell_type": "markdown",
   "metadata": {},
   "source": [
    "# Decision tree\n",
    "Decision tree is a kind of supervised learning technique using in classification and regression. Boosting and random forest can improve the performance\n",
    "* **Advantages:**\n",
    "    - Simple to undestand and visulize the tree\n",
    "    - No need data preparation such as normalisation\n",
    "    - Logarithmic O (logN) running time.\n",
    "* **Disadvantages:**\n",
    "    - Problem of overfitting\n",
    "    - Base on heuristic algorithms such as greedy algorithm.\n",
    "    - Can be unstable due to some small variantion on data.\n",
    "\n",
    "Good reference for understand more about [**_decision tree_**](http://www.saedsayad.com/decision_tree.htm)\n",
    "\n",
    "## Example 1\n",
    "Given 2 dataset with blue class and red class with the number corssponding for blue = 0, red = 1."
   ]
  },
  {
   "cell_type": "code",
   "execution_count": 5,
   "metadata": {
    "collapsed": false
   },
   "outputs": [
    {
     "name": "stdout",
     "output_type": "stream",
     "text": [
      "The sample data is belong to [1]\n"
     ]
    },
    {
     "data": {
      "image/png": "[encoded data removed]",
      "text/plain": [
       "<matplotlib.figure.Figure at 0x2193898>"
      ]
     },
     "metadata": {},
     "output_type": "display_data"
    }
   ],
   "source": [
    "import numpy as np\n",
    "from matplotlib import pyplot as plt\n",
    "from sklearn import tree\n",
    "\n",
    "# Blue class classify as 0\n",
    "xBlue = np.array([0.3,0.5,1,1.4,1.7,2])\n",
    "yBlue = np.array([1,4.5,2.3,1.9,8.9,4.1])\n",
    "\n",
    "# Red class classify as 1\n",
    "xRed = np.array([3.3,3.5,4,4.4,5.7,6])\n",
    "yRed = np.array([7,1.5,6.3,1.9,2.9,7.1])\n",
    "\n",
    "# Consolidate all data\n",
    "X = np.array([[0.3,1],[0.5,4.5],[1,2.3],[1.4,1.9],[1.7,8.9],[2,4.1],[3.3,7],[3.5,1.5],[4,6.3],[4.4,1.9],[5.7,2.9],[6,7.1]])\n",
    "y = np.array([0,0,0,0,0,0,1,1,1,1,1,1]) \n",
    "\n",
    "# Classification \n",
    "classification = tree.DecisionTreeClassifier()\n",
    "classification.fit(X, y)\n",
    "\n",
    "# Sample data for predict\n",
    "xSample = 3\n",
    "ySample = 4\n",
    "\n",
    "# Prediction the sample data\n",
    "print \"The sample data is belong to\", classification.predict([[xSample, ySample]])\n",
    "\n",
    "# Ploting the data\n",
    "plt.plot(xBlue, yBlue, 'ro', color='blue')\n",
    "plt.plot(xRed, yRed, 'ro', color='red')\n",
    "plt.plot(xSample, ySample, 'ro', color='green')\n",
    "\n",
    "plt.axis([0, 6.5, 0, 9.5])\n",
    "plt.show()\n"
   ]
  },
  {
   "cell_type": "markdown",
   "metadata": {},
   "source": [
    "## Example 2\n",
    "Given the data in csv file about iris dataset. Using 80% of this dataset for training and 20% use for test.\n",
    "After training, use this model to predict the given dataset which is testing dataset"
   ]
  },
  {
   "cell_type": "code",
   "execution_count": 21,
   "metadata": {
    "collapsed": false
   },
   "outputs": [
    {
     "name": "stdout",
     "output_type": "stream",
     "text": [
      "********************************** HEAD **************************************\n",
      "   SepalLength  SepalWidth  PetalLength  PetalWidth        Class\n",
      "0          5.1         3.5          1.4         0.2  Iris-setosa\n",
      "1          4.9         3.0          1.4         0.2  Iris-setosa\n",
      "2          4.7         3.2          1.3         0.2  Iris-setosa\n",
      "3          4.6         3.1          1.5         0.2  Iris-setosa\n",
      "4          5.0         3.6          1.4         0.2  Iris-setosa\n",
      "********************************* DESCRIBE ***********************************\n",
      "       SepalLength  SepalWidth  PetalLength  PetalWidth\n",
      "count   150.000000  150.000000   150.000000  150.000000\n",
      "mean      5.843333    3.054000     3.758667    1.198667\n",
      "std       0.828066    0.433594     1.764420    0.763161\n",
      "min       4.300000    2.000000     1.000000    0.100000\n",
      "25%       5.100000    2.800000     1.600000    0.300000\n",
      "50%       5.800000    3.000000     4.350000    1.300000\n",
      "75%       6.400000    3.300000     5.100000    1.800000\n",
      "max       7.900000    4.400000     6.900000    2.500000\n",
      "*******************************  CORRILATE ***********************************\n",
      "             SepalLength  SepalWidth  PetalLength  PetalWidth\n",
      "SepalLength     1.000000   -0.109369     0.871754    0.817954\n",
      "SepalWidth     -0.109369    1.000000    -0.420516   -0.356544\n",
      "PetalLength     0.871754   -0.420516     1.000000    0.962757\n",
      "PetalWidth      0.817954   -0.356544     0.962757    1.000000\n",
      "******************************************************************************\n",
      "Result of feature Test ['Iris-virginica' 'Iris-versicolor' 'Iris-setosa' 'Iris-versicolor'\n",
      " 'Iris-setosa' 'Iris-versicolor' 'Iris-virginica' 'Iris-versicolor'\n",
      " 'Iris-versicolor' 'Iris-versicolor' 'Iris-versicolor' 'Iris-versicolor'\n",
      " 'Iris-versicolor' 'Iris-virginica' 'Iris-virginica' 'Iris-setosa'\n",
      " 'Iris-virginica' 'Iris-virginica' 'Iris-versicolor' 'Iris-setosa'\n",
      " 'Iris-virginica' 'Iris-versicolor' 'Iris-virginica' 'Iris-virginica'\n",
      " 'Iris-setosa' 'Iris-setosa' 'Iris-setosa' 'Iris-versicolor'\n",
      " 'Iris-virginica' 'Iris-setosa']\n",
      "******************************************************************************\n",
      "[[ 8  0  0]\n",
      " [ 0 11  1]\n",
      " [ 0  1  9]]\n",
      "The accuracy score 0.933333333333\n"
     ]
    }
   ],
   "source": [
    "import numpy as np\n",
    "from matplotlib import pyplot as plt\n",
    "import pandas as pd\n",
    "from sklearn.tree import DecisionTreeClassifier\n",
    "from sklearn.cross_validation import train_test_split\n",
    "from sklearn.metrics import confusion_matrix\n",
    "from sklearn.metrics import accuracy_score\n",
    "\n",
    "iris_data = pd.read_csv('./iris_data.csv')\n",
    "\n",
    "print '********************************** HEAD **************************************'\n",
    "print iris_data.head()\n",
    "print '********************************* DESCRIBE ***********************************'\n",
    "print iris_data.describe()\n",
    "print '*******************************  CORRILATE ***********************************'\n",
    "print iris_data.corr()\n",
    "print '******************************************************************************'\n",
    "\n",
    "# Load the dataset and save to features and targetVariable\n",
    "features = iris_data[[\"SepalLength\", \"SepalWidth\", \"PetalLength\", \"PetalWidth\"]]\n",
    "targetVariables = iris_data.Class\n",
    "\n",
    "# Split dataset into 2 sub-dataset, one for training (80%) and the other for testing (20%)\n",
    "featuresTrain, featureTest, targetTrain, targetTest = train_test_split(features, targetVariables, test_size=0.2)\n",
    "\n",
    "# Traing the featuresTrain dataset\n",
    "model = DecisionTreeClassifier()\n",
    "model.fit(featuresTrain, targetTrain)\n",
    "\n",
    "# Predict the testing samples\n",
    "predictions = model.predict(featureTest)\n",
    "print \"Result of feature Test\", predictions\n",
    "\n",
    "# Analysic the result\n",
    "print '******************************************************************************'\n",
    "print confusion_matrix(targetTest, predictions)\n",
    "print \"The accuracy score\", accuracy_score(targetTest, predictions)\n"
   ]
  }
 ],
 "metadata": {
  "kernelspec": {
   "display_name": "Python [conda root]",
   "language": "python",
   "name": "conda-root-py"
  },
  "language_info": {
   "codemirror_mode": {
    "name": "ipython",
    "version": 2
   },
   "file_extension": ".py",
   "mimetype": "text/x-python",
   "name": "python",
   "nbconvert_exporter": "python",
   "pygments_lexer": "ipython2",
   "version": "2.7.12"
  }
 },
 "nbformat": 4,
 "nbformat_minor": 1
}
