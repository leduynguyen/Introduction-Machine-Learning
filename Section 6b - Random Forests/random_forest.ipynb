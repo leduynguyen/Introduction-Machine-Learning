{
 "cells": [
  {
   "cell_type": "markdown",
   "metadata": {},
   "source": [
    "# Random Forests\n",
    "Random forest (Decision Tree Forests) grow many classification trees. Each tree gives a classification. \n",
    "\n",
    "The tree votes for the class. The model uses a vote to combine the tree's predictions. \n",
    "\n",
    "The forest choose the classification having the most votes (overall the trees in the forest).\n",
    "\n",
    "* Advantages:\n",
    "    * Efficiently on large databases.\n",
    "    * Can handle thousands of input variables.\n",
    "    * Can handle noisy or missing data.\n",
    "    * Generated forests can be save for future.\n",
    "* Disadvantages:\n",
    "    * Hard to tune the model to the data.\n",
    "    * The model is not easily interpretable.\n",
    "    \n",
    "# Boosting\n",
    "Use for classification and regression.\n",
    "Help to redue variance and bias.\n",
    "Can turn the weak learner into a strong learner.\n",
    "\n",
    "# Example 1:\n",
    "Use random forest to classification the sample data with the given dataset. The given dataset is classificated as blue class and red class."
   ]
  },
  {
   "cell_type": "code",
   "execution_count": 5,
   "metadata": {
    "collapsed": false
   },
   "outputs": [
    {
     "data": {
      "image/png": "[encoded data removed]",
      "text/plain": [
       "<matplotlib.figure.Figure at 0x99a4b38>"
      ]
     },
     "metadata": {},
     "output_type": "display_data"
    },
    {
     "name": "stdout",
     "output_type": "stream",
     "text": [
      "The sample is belong to class [1]\n"
     ]
    }
   ],
   "source": [
    "import numpy as np\n",
    "from matplotlib import pyplot as plt\n",
    "from sklearn.ensemble import RandomForestClassifier\n",
    "\n",
    "# Blue class is classified as 0\n",
    "xBlue = np.array([0.3,0.5,1,1.4,1.7,2])\n",
    "yBlue = np.array([1,4.5,2.3,1.9,8.9,4.1])\n",
    "\n",
    "# Red class is calssified as 1\n",
    "xRed = np.array([3.3,3.5,4,4.4,5.7,6])\n",
    "yRed = np.array([7,1.5,6.3,1.9,2.9,7.1])\n",
    "\n",
    "# Sample data want to classify\n",
    "xSample = 3.1\n",
    "ySample = 5\n",
    "\n",
    "# Consolidate all the data \n",
    "X = np.array([[0.3,1],[0.5,4.5],[1,2.3],[1.4,1.9],[1.7,8.9],[2,4.1],[3.3,7],[3.5,1.5],[4,6.3],[4.4,1.9],[5.7,2.9],[6,7.1]])\n",
    "y = np.array([0,0,0,0,0,0,1,1,1,1,1,1])\n",
    "\n",
    "# Plot the data\n",
    "plt.plot(xBlue, yBlue, 'ro', color='blue')\n",
    "plt.plot(xRed, yRed, 'ro', color='red')\n",
    "plt.plot(xSample, ySample, 'ro', color='green')\n",
    "\n",
    "plt.axis([0, 6.5, 0, 9.5])\n",
    "plt.show()\n",
    "\n",
    "# Create a model of randomforest\n",
    "model = RandomForestClassifier(n_estimators=100)\n",
    "model.fit(X, y)\n",
    "\n",
    "# Prediction the sample data\n",
    "print \"The sample is belong to class\", model.predict([[xSample, ySample]])\n"
   ]
  },
  {
   "cell_type": "markdown",
   "metadata": {},
   "source": [
    "# Example 2:\n",
    "\n",
    "Using random forest to predict the user. By caculate accuracy of the random forest, we can see how good of the performance that compare with the logistic regression. The accuracy score in this case is higher."
   ]
  },
  {
   "cell_type": "code",
   "execution_count": 21,
   "metadata": {
    "collapsed": false
   },
   "outputs": [
    {
     "name": "stdout",
     "output_type": "stream",
     "text": [
      "Confusion matrix\n",
      "[[340   2]\n",
      " [  3  55]]\n",
      "The accuracy score 0.9875\n"
     ]
    }
   ],
   "source": [
    "import numpy as np\n",
    "import pandas as pd\n",
    "from matplotlib import pyplot as plt\n",
    "from sklearn.ensemble import RandomForestClassifier\n",
    "from sklearn.cross_validation import train_test_split\n",
    "from sklearn.metrics import accuracy_score\n",
    "from sklearn.metrics import confusion_matrix\n",
    "\n",
    "# Read database and extract the features\n",
    "credit_data = pd.read_csv(\"./credit_data.csv\")\n",
    "features = credit_data[[\"income\", \"age\", \"loan\"]]\n",
    "targetVariable = credit_data.default\n",
    "\n",
    "# Split features to training dataset and testing dataset\n",
    "featuresTrains, featuresTests, targetTrains, targetTests = train_test_split(features, targetVariable, test_size=0.2)\n",
    "\n",
    "# Create model of Random Forest to classify \n",
    "model = RandomForestClassifier(n_estimators=25)\n",
    "model.fit(featuresTrains, targetTrains)\n",
    "\n",
    "# Predict the testing dataset\n",
    "predictions = model.predict(featuresTests)\n",
    "\n",
    "# Analysis the data result\n",
    "print \"Confusion matrix\"\n",
    "print confusion_matrix(targetTests, predictions)\n",
    "print \"The accuracy score\", accuracy_score(targetTests, predictions)\n"
   ]
  }
 ],
 "metadata": {
  "anaconda-cloud": {},
  "kernelspec": {
   "display_name": "Python [conda root]",
   "language": "python",
   "name": "conda-root-py"
  },
  "language_info": {
   "codemirror_mode": {
    "name": "ipython",
    "version": 2
   },
   "file_extension": ".py",
   "mimetype": "text/x-python",
   "name": "python",
   "nbconvert_exporter": "python",
   "pygments_lexer": "ipython2",
   "version": "2.7.12"
  }
 },
 "nbformat": 4,
 "nbformat_minor": 1
}
