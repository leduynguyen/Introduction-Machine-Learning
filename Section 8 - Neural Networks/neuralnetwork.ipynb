{
 "cells": [
  {
   "cell_type": "markdown",
   "metadata": {},
   "source": [
    "# Neural Network\n",
    "- Feedfordward neural network\n",
    "- Training a neural network\n",
    "- Error calculation\n",
    "- Gradient Calculation\n",
    "- Backpropagation\n",
    "\n",
    "> Install pybrain: pip install pybrain\n",
    "\n",
    "# Example \n",
    "XOR problem in neural network"
   ]
  },
  {
   "cell_type": "code",
   "execution_count": 5,
   "metadata": {
    "collapsed": false
   },
   "outputs": [
    {
     "name": "stdout",
     "output_type": "stream",
     "text": [
      "--------------\n",
      "[ 0.50315233]\n",
      "[ 0.51155939]\n",
      "[ 0.5215859]\n",
      "[ 0.45194949]\n",
      "--------------\n",
      "[ 0.46392121]\n",
      "[ 0.58677038]\n",
      "[ 0.56228587]\n",
      "[ 0.37278866]\n",
      "--------------\n",
      "[ 0.30828702]\n",
      "[ 0.74573711]\n",
      "[ 0.71699356]\n",
      "[ 0.22804906]\n",
      "--------------\n",
      "[ 0.11842595]\n",
      "[ 0.90646511]\n",
      "[ 0.89546336]\n",
      "[ 0.08144123]\n",
      "--------------\n",
      "[ 0.03190902]\n",
      "[ 0.97549942]\n",
      "[ 0.97284301]\n",
      "[ 0.02062292]\n",
      "--------------\n",
      "[ 0.00757725]\n",
      "[ 0.99425988]\n",
      "[ 0.99366582]\n",
      "[ 0.00474997]\n",
      "--------------\n",
      "[ 0.0017338]\n",
      "[ 0.99869196]\n",
      "[ 0.99855529]\n",
      "[ 0.00107717]\n",
      "--------------\n",
      "[ 0.00039269]\n",
      "[ 0.9997027]\n",
      "[ 0.99967169]\n",
      "[ 0.00024244]\n",
      "--------------\n",
      "[  8.88169384e-05]\n",
      "[ 0.99993258]\n",
      "[ 0.9999257]\n",
      "[  5.48037072e-05]\n"
     ]
    }
   ],
   "source": [
    "from pybrain.tools.shortcuts import buildNetwork\n",
    "from pybrain.datasets import SupervisedDataSet\n",
    "from pybrain.supervised.trainers import BackpropTrainer\n",
    "\n",
    "# Create a neural nerwork with 2 inputs, 3 hiddens, 1 output\n",
    "neuralNetwork = buildNetwork(2,3,1)\n",
    "\n",
    "# Create supervised dataset with 2 inputs and 1 target\n",
    "dataSet = SupervisedDataSet(2, 1)\n",
    "\n",
    "# Add sample which is XOR truth table\n",
    "# x    y    x XOR y\n",
    "# 0    0      0\n",
    "# 0    1      1\n",
    "# 1    0      1\n",
    "# 1    1      0\n",
    "dataSet.addSample((0, 0), (0, ))\n",
    "dataSet.addSample((0, 1), (1, ))\n",
    "dataSet.addSample((1, 0), (1, ))\n",
    "dataSet.addSample((1, 1), (0, ))\n",
    "\n",
    "# Create trainer take and train model->neuralNetwork fit with dataset->dataSet\n",
    "trainer = BackpropTrainer(neuralNetwork, dataSet)\n",
    "\n",
    "# Training 10000 epochs\n",
    "for i in range(1, 10000):\n",
    "    trainer.train()\n",
    "    # Print the result of error every 1000 epochs\n",
    "    if i%1000 == 0:\n",
    "        print \"--------------\"\n",
    "        print neuralNetwork.activate([0, 0])\n",
    "        print neuralNetwork.activate([0, 1])\n",
    "        print neuralNetwork.activate([1, 0])\n",
    "        print neuralNetwork.activate([1, 1])\n",
    "        \n",
    "# Other appoarch dont using loop for trainer -> trainer.trainUntilConvergence()"
   ]
  }
 ],
 "metadata": {
  "anaconda-cloud": {},
  "kernelspec": {
   "display_name": "Python [conda root]",
   "language": "python",
   "name": "conda-root-py"
  },
  "language_info": {
   "codemirror_mode": {
    "name": "ipython",
    "version": 2
   },
   "file_extension": ".py",
   "mimetype": "text/x-python",
   "name": "python",
   "nbconvert_exporter": "python",
   "pygments_lexer": "ipython2",
   "version": "2.7.12"
  }
 },
 "nbformat": 4,
 "nbformat_minor": 1
}
